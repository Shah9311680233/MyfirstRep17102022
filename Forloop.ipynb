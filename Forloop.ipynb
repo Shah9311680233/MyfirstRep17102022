{
 "cells": [
  {
   "cell_type": "code",
   "execution_count": 3,
   "id": "96bd5858",
   "metadata": {},
   "outputs": [
    {
     "name": "stdout",
     "output_type": "stream",
     "text": [
      "30  - Fail better luck next time\n",
      "50  - Pass\n",
      "70  - First Class\n",
      "90  - Distinction\n",
      "51  - Second Class\n"
     ]
    }
   ],
   "source": [
    "Students_score = [30,50,70,90,51]\n",
    "for Marks in Students_score:\n",
    "    if Marks >= 60:\n",
    "        if Marks > 70:\n",
    "            print (Marks,' - Distinction')\n",
    "        else:\n",
    "            print (Marks,' - First Class')\n",
    "    elif Marks > 50 and Marks < 60:\n",
    "        print (Marks,' - Second Class')\n",
    "    elif Marks >= 35:\n",
    "        print (Marks,' - Pass')\n",
    "    else:\n",
    "        print (Marks,' - Fail better luck next time')"
   ]
  },
  {
   "cell_type": "code",
   "execution_count": null,
   "id": "cd523041",
   "metadata": {},
   "outputs": [],
   "source": []
  },
  {
   "cell_type": "code",
   "execution_count": null,
   "id": "3768bd85",
   "metadata": {},
   "outputs": [],
   "source": []
  }
 ],
 "metadata": {
  "kernelspec": {
   "display_name": "Python 3 (ipykernel)",
   "language": "python",
   "name": "python3"
  },
  "language_info": {
   "codemirror_mode": {
    "name": "ipython",
    "version": 3
   },
   "file_extension": ".py",
   "mimetype": "text/x-python",
   "name": "python",
   "nbconvert_exporter": "python",
   "pygments_lexer": "ipython3",
   "version": "3.9.12"
  }
 },
 "nbformat": 4,
 "nbformat_minor": 5
}
